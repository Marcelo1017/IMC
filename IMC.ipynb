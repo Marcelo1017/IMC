{
  "nbformat": 4,
  "nbformat_minor": 0,
  "metadata": {
    "colab": {
      "provenance": [],
      "authorship_tag": "ABX9TyNXkBTq5bMuGqBvNNuKDT3S",
      "include_colab_link": true
    },
    "kernelspec": {
      "name": "python3",
      "display_name": "Python 3"
    },
    "language_info": {
      "name": "python"
    }
  },
  "cells": [
    {
      "cell_type": "markdown",
      "metadata": {
        "id": "view-in-github",
        "colab_type": "text"
      },
      "source": [
        "<a href=\"https://colab.research.google.com/github/Marcelo1017/IMC/blob/main/IMC.ipynb\" target=\"_parent\"><img src=\"https://colab.research.google.com/assets/colab-badge.svg\" alt=\"Open In Colab\"/></a>"
      ]
    },
    {
      "cell_type": "code",
      "execution_count": null,
      "metadata": {
        "id": "T8rL1zh0mJZO"
      },
      "outputs": [],
      "source": [
        "# Cálculo do Índice de Massa Corporal\n",
        "import os\n",
        " \n",
        "nome = input(\"Digite seu nome: \")\n",
        "altura = float(input(\"Digite sua altura em metros: \"))\n",
        "peso = float(input(\"Digite seu peso em Kg: \"))\n",
        " \n",
        "imc = peso / altura**2\n",
        " \n",
        "print(nome)\n",
        "print(\"Seu IMC é: %.4f\" % imc)\n",
        " \n",
        "if imc < 16:\n",
        "\tprint(\"Magreza grave\")\n",
        "elif imc < 17:\n",
        "\tprint(\"Magreza moderada\")\n",
        "elif imc < 18.5:\n",
        "\tprint(\"Magreza leve\")\n",
        "elif imc < 25:\n",
        "\tprint(\"Saudável\")\n",
        "elif imc < 30:\n",
        "\tprint(\"Sobrepeso\")\n",
        "elif imc < 35:\n",
        "\tprint(\"Obesidade Grau I\")\n",
        "elif imc < 40:\n",
        "\tprint(\"Obesidade Grau II (severa)\")\n",
        "else:\n",
        "\tprint(\"Obesidade Grau III (mórbida)\")\n",
        " \n",
        "#os.system(\"pause\")"
      ]
    }
  ]
}